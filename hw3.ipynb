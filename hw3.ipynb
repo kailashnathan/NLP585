{
 "cells": [
  {
   "cell_type": "markdown",
   "metadata": {},
   "source": [
    "# Homework 5: Lexicons and Distributional Semantics\n",
    "\n",
    "This is due on **Friday, 11/10 (11pm)** \n",
    "\n",
    "## How to do this problem set\n",
    "\n",
    "Most of these questions require writing Python code and computing results, and the rest of them have textual answers.  Write all the textual answers in this document, show the output of your experiment in this document, and implement the functions in the `python` files. \n",
    "\n",
    "Submit a PDF of thie .ipynb to Gradescope, and the .ipynb and all python files to Moodle.\n",
    "\n",
    "The assignment has two parts:\n",
    " * In the first part, you will experiment with Turney's method to find word polarities in a twitter dataset, given some positive and negative seed words.\n",
    " * In the second part, you will experiment with distributional and vector semantics."
   ]
  },
  {
   "cell_type": "markdown",
   "metadata": {},
   "source": [
    "## KAILASH NATHAN SRINIVASAN\n",
    "\n",
    "#### COLLOBORATORS:MOHIT UNIYAL\n",
    "We discussed some problems we were facing and devised some sanity checks and test cases. Discussed the material to form a better understanding before attempting the problems."
   ]
  },
  {
   "cell_type": "markdown",
   "metadata": {},
   "source": [
    "## Part 1: Lexicon semantics"
   ]
  },
  {
   "cell_type": "markdown",
   "metadata": {},
   "source": [
    "\n",
    "Recall that PMI of a pair of words, is defined as:\n",
    "\n",
    "$$PMI(x, y) = log\\frac{ P(x, y) }{ P(x)P(y)}$$\n",
    "\n",
    "The Turney mehod defines a word's polarity as:\n",
    "\n",
    "$$Polarity(word) = PMI(word, positive\\_word)−PMI(word, negative\\_word)$$\n",
    "\n",
    "where the joint probability $P(w, v)$ or, more specifically, $P(w\\ NEAR\\ v)$ is the probability of both being \"near\" each other.  We'll work with tweets, so it means: if you choose a tweet at random, what's the chance it contains both `w` and `v`?\n",
    "\n",
    "(If you look at the Turney method as explained in the SLP3 chapter, the \"hits\" function is a count of web pages that contain at least one instance of the two words occurring near each other.)\n",
    "\n",
    "The positive_word and negative_word terms are initially constructed by hand. For example: we might start with single positive word ('excellent') and a single negative word ('bad'). We can also have list of positive words ('excellent', 'perfect', 'love', ....) and list of negative words ('bad', 'hate', 'filthy',....)\n",
    "\n",
    "If we're using a seed list of multiple terms, just combine them into a single symbol, e.g. all the positive seed words get rewritten to POS_WORD (and similarly for NEG_WORD).  This $P(w, POS\\_WORD)$ effectively means the co-ocurrence of $w$ with any of the terms in the list.\n",
    "\n",
    "For this assignment, we will use twitter dataset which has 349378 tweets. These tweets are in the file named `tweets.txt`. These are the tweets of one day and filtered such that each tweet contains at least one of the seed words we've selected."
   ]
  },
  {
   "cell_type": "markdown",
   "metadata": {},
   "source": [
    "## Question 1 (15 points)\n",
    "\n",
    "The file `tweets.txt` contains around 349,378 tweets with one tweet per line.  It is a random sample of public tweets, which we tokenized with [twokenize.py's tokenizeRawTweetText()](https://github.com/myleott/ark-twokenize-py/blob/master/twokenize.py)). The text you see has a space between each token so you can just use `.split()` if you want.  We also filtered tweets to ones that included at least one term from one of these seed lists:\n",
    "* Positive seed list: [\"good\", \"nice\", \"love\", \"excellent\", \"fortunate\", \"correct\", \"superior\"]\n",
    "* Negative seed list: [\"bad\", \"nasty\", \"poor\", \"hate\", \"unfortunate\", \"wrong\", \"inferior\"]\n",
    "\n",
    "Each tweet contains at least one positive or negative seed word. Take a look at the file (e.g. `less' and `grep'). Implement the Turney's method to calculate polarity scores of all words.\n",
    "\n",
    "Some things to keep in mind:\n",
    "* Ignore the seed words (i.e. don't calculate the polarity of the seed words).\n",
    "* You may want to ignore the polarity of words beignning with `@` or `#`. \n",
    "\n",
    "We recommend that you write code in a python file, but it's up to you.\n",
    "\n",
    "ANS: the code is in the file lexicon.py\n",
    "\n",
    "QUESTION: You'll have to do something to handle zeros in the PMI equation. Please explain your and justify your decision about this."
   ]
  },
  {
   "cell_type": "markdown",
   "metadata": {},
   "source": [
    "I used Laplace Smoothing to handle the zeros. Before computing PMI, a small constant k (values of 0.1-3 are common) is added to each of the counts, shrinking (discounting) all the non-zero values.The larger the k, the more the non-zero counts. I used the value of 3.\n"
   ]
  },
  {
   "cell_type": "code",
   "execution_count": 91,
   "metadata": {
    "collapsed": true
   },
   "outputs": [],
   "source": [
    "import lexicon"
   ]
  },
  {
   "cell_type": "markdown",
   "metadata": {
    "collapsed": true
   },
   "source": [
    "## Question 2 (5 points)\n",
    "\n",
    "Print the top 50 most-positive words (i.e. inferred positive words) and the 50 most-negative words.\n",
    "\n",
    "Many of the words won't make sense.  Comment on at least two that do make sense, and at least two that don't.  Why do you think these are happening with this dataset and method?"
   ]
  },
  {
   "cell_type": "code",
   "execution_count": 93,
   "metadata": {
    "collapsed": false
   },
   "outputs": [
    {
     "data": {
      "text/plain": [
       "<module 'lexicon' from 'lexicon.py'>"
      ]
     },
     "execution_count": 93,
     "metadata": {},
     "output_type": "execute_result"
    }
   ],
   "source": [
    "reload(lexicon)"
   ]
  },
  {
   "cell_type": "code",
   "execution_count": 94,
   "metadata": {
    "collapsed": false
   },
   "outputs": [
    {
     "name": "stdout",
     "output_type": "stream",
     "text": [
      "top 50 positive polarity words [('teyana', 4.903897554408439), ('von', 4.740182077660983), ('keef', 4.739041176225191), ('\\xf0\\x9f\\x98\\x82\\xf0\\x9f\\x98\\x82\\xf0\\x9f\\x98\\x82\\xf0\\x9f\\x98\\x8d', 4.722930355952494), ('decay', 4.044751791086469), ('ol', 3.8539371268876197), ('shrek', 3.8187470074912278), ('taylor', 3.6618865148955457), ('compatibility', 3.6301017734012326), ('pregnancy', 3.4340340780110425), ('hood', 3.394116604763878), ('meera', 3.3527468151053017), ('pupared', 3.3435724388292605), ('doggo\\xe2\\x80\\xa6', 3.3435724388292605), ('doghouse', 3.3435724388292605), ('\\xe2\\x99\\xa1', 3.34357243882926), ('paredes', 3.3202613599608126), ('colores', 3.315533218764867), ('arguing\\\\', 3.2866850644272088), ('fought', 3.258414630488953), ('excellent', 3.1488237537311985), ('her\\\\', 3.114072321760215), ('23', 3.0965280121093057), ('birthday', 3.053239537668971), ('hosting', 3.007100202208047), ('\\xf0\\x9f\\x98\\x8d\\xe2\\x9d\\xa4', 2.912434975666969), ('wishin', 2.8407789867605335), ('only\\xf0\\x9f\\x8d\\x80', 2.7999569922402787), ('nice', 2.783807985168446), ('evening', 2.7403947310889354), ('memes\\xe2\\x80\\xa6', 2.725849020086557), ('love', 2.7152653688506403), ('\\xe2\\x9d\\xa4\\xef\\xb8\\x8f', 2.667994227388382), ('rting', 2.6568561485996054), ('\\xf0\\x9f\\x92\\x98', 2.6271141794008677), ('viola', 2.6176354354463234), ('*7', 2.588647898573072), ('lik\\xe2\\x80\\xa6', 2.57879560213006), ('beneficial', 2.5587949354233905), ('\\xf0\\x9f\\x98\\xac\\xf0\\x9f\\x92\\xaf', 2.5486425639593726), ('\\xf0\\x9f\\x98\\x82\\xf0\\x9f\\x95\\xba\\xf0\\x9f\\x8f\\xbd', 2.5486425639593726), ('\\xe2\\x9d\\xa4', 2.5446257610416643), ('\\xf0\\x9f\\x99\\x84\\xf0\\x9f\\x99\\x84\\xf0\\x9f\\xa4\\xb7\\xf0\\x9f\\x8f\\xbd\\xe2\\x80\\x8d\\xe2\\x99\\x82\\xef\\xb8\\x8f', 2.5383860637921836), ('this\\xf0\\x9f\\x98\\x8a', 2.5383860637921836), ('treated\\xe2\\x80\\xa6', 2.5175519768893415), ('visiting', 2.5154444945497767), ('\\xf0\\x9f\\x8c\\xb4', 2.496274578442056), ('\".....', 2.488177368209437), ('craze', 2.4854636623378408), ('multi-million', 2.4523114550209404)]\n",
      "\n",
      "\n",
      "\n",
      "top 50 negative polarity words [('cigarettes', -5.393351078060217), ('they\\\\', -5.200392503084405), ('multi\\xe2\\x80\\xa6', -4.957094149791735), ('jdjxjcjszjsj\\\\', -4.8825254542942265), ('n-word\\\\', -4.808913636950981), ('fliers', -4.6911306012945975), ('primarily', -4.681316979846272), ('condemning', -4.638426537804029), ('pretext', -4.601274272172736), ('16\\xe2\\x80\\xa6', -4.584032465738231), ('safest', -4.557599208670075), ('cracker', -4.528152007343774), ('https://t.co/fit4as5b\\xe2\\x80\\xa6', -4.5212315644992), ('engineer', -4.418952715378782), ('decreased', -4.411230669284871), ('vague', -4.296350393286449), ('closure', -4.278806083635541), ('forms\\\\', -4.269917136218294), ('swaddle', -4.260948466235534), ('condemn', -4.244075905034407), ('investigating', -4.224247099385106), ('deporting', -4.205378615080723), ('farmer', -4.182905759228664), ('condemns', -4.180304977528607), ('marijuana', -4.160451945736336), ('idea\\xe2\\x80\\xa6', -4.101780214416296), ('instinct', -4.101780214416296), ('ploughing', -4.087595579424339), ('crimes', -4.046986147345101), ('vandalism', -4.043792956765946), ('\\xe2\\x86\\x91', -3.997983420734652), ('disability', -3.9917138077210566), ('centers', -3.949974201548292), ('i\\xe2\\x80\\x99ll', -3.9321620257841916), ('hearts\\\\', -3.9166377812807), ('collapsing', -3.9166377812806994), ('am\\xc3\\xa9n', -3.8995433479213997), ('\\xf0\\x9f\\x98\\xb1\\xf0\\x9f\\x99\\x8f', -3.8995433479213997), ('*197%*', -3.8821516052095304), ('insomnia', -3.8608742067622455), ('threats', -3.8570719208125066), ('\\xe2\\x80\\x9caccess\\xe2\\x80\\x9d', -3.770925970099306), ('eradicate', -3.7309206354856066), ('defeating', -3.7309206354856066), ('moods', -3.7258055348188366), ('crimes\\\\', -3.7103013482828713), ('removes', -3.710301348282871), ('3am', -3.6998300484155755), ('denouncing', -3.689247939085039), ('commerce', -3.678552649968291)]\n",
      "\n",
      "\n",
      "\n"
     ]
    }
   ],
   "source": [
    "lexicon.top50()"
   ]
  },
  {
   "cell_type": "markdown",
   "metadata": {
    "collapsed": true
   },
   "source": [
    "There are some URL's in the lists which do not make sense. They can be removed by preprocessing the data.\n",
    "They are words such as fighting in positive list which could be due to the fact the tweet could have had both positive and negative words in the tweet and since we are looking for only one word from the list to mark it as positive or negative.\n",
    "Our model will not be able to handle sarcasm as well"
   ]
  },
  {
   "cell_type": "markdown",
   "metadata": {},
   "source": [
    "## Question 3 (5 points)\n",
    "\n",
    "Now filter out all the words which have total count < 500, and then print top 50 polarity words and bottom 50 polarity words. \n",
    "\n",
    "Choose some of the words from both the sets of 50 words you got above which accoording to you make sense. Again please note, you will find many words which don't make sense. Do you think these results are better than the results you got in Question-1? Explain why."
   ]
  },
  {
   "cell_type": "code",
   "execution_count": 95,
   "metadata": {
    "collapsed": false
   },
   "outputs": [
    {
     "name": "stdout",
     "output_type": "stream",
     "text": [
      "top 50 positive polarity words [('ol', 4.320786699381194), ('pregnancy', 3.749000375825516), ('hood', 3.678470225019678), ('birthday', 3.117979928939323), ('\\xe2\\x9d\\xa4\\xef\\xb8\\x8f', 2.787419658364138), ('\\xe2\\x9d\\xa4', 2.6546187565780945), ('\\xf0\\x9f\\x98\\x8a', 2.2746535132075847), ('hilarious', 2.233703349161595), ('morning', 1.9162543165702917), ('fall', 1.8613822476420152), ('thank', 1.7195586511322989), ('happy', 1.6896504479180474), ('falling', 1.6837323876387527), ('beautiful', 1.5348262401755233), ('thanks', 1.4952635882259542), ('amazing', 1.4326334240536558), ('follow', 1.3870859047738668), ('become', 1.3772578158376043), ('proud', 1.3329903001581256), ('soon', 1.305116061137425), ('\\xf0\\x9f\\x98\\x8d', 1.252819181569485), ('forever', 1.1970905239146257), ('sounds', 1.1740570290268693), ('you\\\\', 1.1519332385770344), ('feels', 1.1491936551766322), ('!!', 1.1145141628968247), ('deserve', 1.1057597352987742), ('together', 1.066843853728405), ('movie', 1.0339571392323352), ('support', 1.0189247184874735), ('vibes', 0.9767188260654958), (':)', 0.9036476531648282), ('!!!', 0.8863450527159931), ('friend', 0.8640097554076401), ('music', 0.8637658470184213), ('|', 0.8613897793706792), ('hope', 0.8468153964390295), ('luck', 0.8225547199051704), ('best', 0.8186118141236218), ('miss', 0.8147889589197753), ('song', 0.8120295998321737), ('truly', 0.7897388527173009), ('much', 0.7876902740462673), ('true', 0.7743422693391853), ('ya', 0.759035006447353), ('night', 0.7343631991677537), ('new', 0.72140349154229), ('looks', 0.7105081071286841), ('tired', 0.6987690738817727), ('looking', 0.6963807278694734)]\n",
      "\n",
      "\n",
      "\n",
      "top 50 negative polarity words [('cigarettes', -5.794974877951719), ('condemning', -4.789078733910888), ('marijuana', -4.258408316333141), ('crimes', -4.1179381000315765), ('stands', -3.6302958117212434), ('forms', -3.561655321749655), ('beer', -3.483602457160079), ('store', -3.3222220496212285), ('explain', -3.237862701003655), ('crime', -3.19469360919284), ('evil', -2.9225753624599853), ('united', -2.797019557909782), ('ugly', -2.6554012942293315), ('pick', -2.564219751483531), ('against', -1.5730029992960413), ('after', -1.3514842967456695), ('w', -1.3463253276775553), ('women', -1.2470094702513266), ('stand', -1.2353107106114756), ('ppl', -1.200352185209756), ('went', -1.159365464291155), ('men', -1.071654254510578), ('parents', -1.0645015027941422), ('whole', -1.0568494886961288), ('says', -1.0475946252601533), ('ask', -1.036189869968251), ('country', -1.0361120338133176), ('myself', -0.9843317380461268), ('something', -0.9644973055220267), ('negative', -0.9588032063528305), ('every', -0.9553680238374336), ('its', -0.9453543965402178), ('send', -0.8836825758847228), ('use', -0.8679260157739597), ('woman', -0.8605601584638684), ('believe', -0.8206747261299551), ('must', -0.814667820404817), ('going', -0.8035501786452701), ('white', -0.7967164938786812), ('right', -0.7931984766748588), ('nothing', -0.782255482594188), ('mad', -0.781228886305777), ('why', -0.7629784451131869), ('school', -0.7578642951589248), ('left', -0.7299126671234644), ('kids', -0.7224104713323702), ('worse', -0.7165884070447799), ('thought', -0.7129409665217274), ('man', -0.7029102060775974), ('were', -0.6805873989916692)]\n"
     ]
    }
   ],
   "source": [
    "lexicon.top50withcount()"
   ]
  },
  {
   "cell_type": "markdown",
   "metadata": {},
   "source": [
    "## Answer \n",
    "Words which makes sense:\n",
    "Positive :pregnancy,happy ,hope.\n",
    "Negative:cigarettes,crime.\n",
    "The results are much better than the previous ones. This is due to the fact that PMI is affected by words with less frequency and hence this approach improves the results. "
   ]
  },
  {
   "cell_type": "markdown",
   "metadata": {},
   "source": [
    "## Question 4 (5 points)\n",
    "\n",
    "Even after filtering out words with count < 500, many top-most and bottom-most polarity don't make sense. Identify what kind of words these are and what can be done to filter them out. You can read some tweets in the file to see what's happening. "
   ]
  },
  {
   "cell_type": "markdown",
   "metadata": {
    "collapsed": true
   },
   "source": [
    "### Textual answer here.\n",
    "Some top most words till seem to not make sense. Words like men and women are tagged as negative. This could be due the context in which they are used in. We can improve on this by using KNN method to solve this. We can look at k nearest words near the target word to find whether it is positive or negative. Tweets which have both and negative words in them and to break the tie in such cases instead of tagging them as both positive and negative. "
   ]
  },
  {
   "cell_type": "markdown",
   "metadata": {},
   "source": [
    "# Part-2: Distributional Semantics"
   ]
  },
  {
   "cell_type": "markdown",
   "metadata": {},
   "source": [
    "## Cosine Similarity"
   ]
  },
  {
   "cell_type": "markdown",
   "metadata": {},
   "source": [
    "Recall that, where $i$ indexes over the context types, cosine similarity is defined as follows. $x$ and $y$ are both vectors of context counts (each for a different word), where $x_i$ is the count of context $i$.\n",
    "\n",
    "$$cossim(x,y) = \\frac{ \\sum_i x_i y_i }{ \\sqrt{\\sum_i x_i^2} \\sqrt{\\sum_i y_i^2} }$$\n",
    "\n",
    "The nice thing about cosine similarity is that it is normalized: no matter what the input vectors are, the output is between 0 and 1. One way to think of this is that cosine similarity is just, um, the cosine function, which has this property (for non-negative $x$ and $y$). Another way to think of it is, to work through the situations of maximum and minimum similarity between two context vectors, starting from the definition above.\n",
    "\n",
    "Note: a good way to understand the cosine similarity function is that the numerator cares about whether the $x$ and $y$ vectors are correlated. If $x$ and $y$ tend to have high values for the same contexts, the numerator tends to be big. The denominator can be thought of as a normalization factor: if all the values of $x$ are really large, for example, dividing by the square root of their sum-of-squares prevents the whole thing from getting arbitrarily large. In fact, dividing by both these things (aka their norms) means the whole thing can’t go higher than 1.\n",
    "\n",
    "In this problem we'll work with vectors of raw context counts.  (As you know, this is not necessarily the best representation.)"
   ]
  },
  {
   "cell_type": "markdown",
   "metadata": {},
   "source": [
    "## Question 5 (5 points)\n",
    "\n",
    "See the file `nytcounts.university_cat_dog`, which contains context count vectors for three words: “dog”, “cat”, and “university”. These are immediate left and right contexts from a New York Times corpus. You can open the file in a text editor since it’s quite small. \n",
    "\n",
    "Write a function which takes context count dictionaries of two words and calculates cosine similarity between these two words. The function should return a number beween 0 and 1.  Briefly comment on whether the relative simlarities make sense.\n",
    "\n"
   ]
  },
  {
   "cell_type": "code",
   "execution_count": 96,
   "metadata": {
    "collapsed": false
   },
   "outputs": [
    {
     "name": "stdout",
     "output_type": "stream",
     "text": [
      "file nytcounts.university_cat_dog has contexts for 3 words\n",
      "dogs and cats 0.966891672715\n",
      "University and cat 0.660442421144\n",
      "University and dog 0.659230248969\n"
     ]
    }
   ],
   "source": [
    "import distsim; reload(distsim)\n",
    "\n",
    "word_to_ccdict = distsim.load_contexts(\"nytcounts.university_cat_dog\")\n",
    "print \"dogs and cats\",distsim.cosinesim(word_to_ccdict['dog'],word_to_ccdict['cat'])\n",
    "print \"University and cat\",distsim.cosinesim(word_to_ccdict['university'],word_to_ccdict['cat'])\n",
    "print \"University and dog\",distsim.cosinesim(word_to_ccdict['dog'],word_to_ccdict['university'])\n",
    "\n",
    "\n",
    "# write code here to show output (i.e. cosine similarity between these words.)\n",
    "# We encourage you to write other functions in distsim.py itself. "
   ]
  },
  {
   "cell_type": "markdown",
   "metadata": {},
   "source": [
    "**Write your response here:**\n",
    "The similarites does make sense.Cats and Dogs have similiar set of words which describes their functions so the similarity score is high as they will appear in the same context as their second order co-occurence is high.\n",
    "\n"
   ]
  },
  {
   "cell_type": "markdown",
   "metadata": {},
   "source": [
    "\n",
    "## Question 6 (20 points)\n",
    "\n",
    "Explore similarities in `nytcounts.4k`, which contains context counts for about 4000 words in a sample of New York Times articles. The news data was lowercased and URLs were removed. The context counts are for the 2000 most common words in twitter, as well as the most common 2000 words in the New York Times. (But all context counts are from New York Times.) The context counts only contain contexts that appeared for more than one word.  The file has three tab-separate fields: the word, its count, and a JSON-encoded dictionary of its context counts.  You'll see it's just counts of the immediate left/right neighbors.\n",
    "\n",
    "Choose **six** words. For each, show the output of 20 nearest words (use cosine similarity as distance metric). Comment on whether the output makes sense. Comment on whether this approach to distributional similarity makes more or less sense for certain terms.\n",
    "Four of your words should be:\n",
    "\n",
    " * a name (for example: person, organization, or location)\n",
    " * a common noun\n",
    " * an adjective\n",
    " * a verb\n",
    "\n",
    "You may also want to try exploring further words that are returned from a most-similar list from one of these. You can think of this as traversing the similarity graph among words.\n",
    "\n",
    "*Implementation note:* \n",
    "On my laptop it takes several hundred MB of memory to load it into memory from the `load_contexts()` function. If you don’t have enough memory available, your computer will get very slow because the OS will start swapping. If you have to use a machine without that much memory available, you can instead implement in a streaming approach by using the `stream_contexts()` generator function to access the data; this lets you iterate through the data from disk, one vector at a time, without putting everything into memory. You can see its use in the loading function. (You could also alternatively use a key-value or other type of database, but that’s too much work for this assignment.)"
   ]
  },
  {
   "cell_type": "code",
   "execution_count": 97,
   "metadata": {
    "collapsed": false,
    "scrolled": true
   },
   "outputs": [
    {
     "name": "stdout",
     "output_type": "stream",
     "text": [
      "file nytcounts.4k has contexts for 3648 words\n"
     ]
    }
   ],
   "source": [
    "import distsim; reload(distsim)\n",
    "word_to_ccdict = distsim.load_contexts(\"nytcounts.4k\")\n",
    "#print word_to_ccdict.keys()\n",
    "\n",
    "                \n",
    "#print word_to_ccdict.keys()"
   ]
  },
  {
   "cell_type": "code",
   "execution_count": 100,
   "metadata": {
    "collapsed": false
   },
   "outputs": [
    {
     "name": "stdout",
     "output_type": "stream",
     "text": [
      "college [('practice', 0.8835691503443625), ('experience', 0.8755211337561157), ('movement', 0.8696545871730815), ('success', 0.8684070471625261), ('pain', 0.8672372186630012), ('history', 0.8653405009103579), ('style', 0.8627730828942908), ('light', 0.8616383187232146), ('star', 0.8613841494474034), ('culture', 0.8604436297664712), ('character', 0.856541002702758), ('hero', 0.8540305870276266), ('murder', 0.8511105876664207), ('line', 0.8508271961312679), ('society', 0.8505588199013451), ('language', 0.8504178677753873), ('structure', 0.8494259159996358), ('painting', 0.8491285066136368), ('church', 0.8481968005345988), ('lines', 0.8452229320260451)]\n",
      "************\n",
      "critical [('total', 0.8362168503286932), ('piece', 0.8345317516136643), ('couple', 0.8342079460251088), ('short', 0.8323138770615601), ('host', 0.8323008140560494), ('bottle', 0.8279748224342354), ('pair', 0.8247414338453176), ('preview', 0.8210139769300333), ('full', 0.8181635283625746), ('variety', 0.8143031417921008), ('copy', 0.8140102261401295), ('stretch', 0.8132103452489724), ('bunch', 0.8117557408109315), ('photo', 0.8061297367018088), ('series', 0.8038220576050776), ('mix', 0.8027731741412313), ('sense', 0.7956801633859023), ('result', 0.7952553161573915), ('lot', 0.7938705382979905), ('survey', 0.7934749876100725)]\n",
      "************\n",
      "election [('event', 0.8855624293950077), ('environment', 0.8795787660996671), ('area', 0.8742435432064006), ('race', 0.8718001867973033), ('operation', 0.865615760705381), ('audience', 0.8613807526949597), ('accident', 0.8610015317449428), ('issue', 0.8538031975383702), ('economy', 0.851535114879357), ('industry', 0.8459930175991421), ('future', 0.8459539217837427), ('field', 0.8448349150699164), ('case', 0.8445996436948929), ('process', 0.8421324815290273), ('trial', 0.8418999318581072), ('streets', 0.8416747325242578), ('road', 0.8394389418862016), ('program', 0.837784327397926), ('situation', 0.836946737924965), ('project', 0.8355733250519282)]\n",
      "************\n",
      "india [('brazil', 0.9902923393570231), ('japan', 0.986221790764028), ('china', 0.9757253333821858), ('britain', 0.9747921029989335), ('italy', 0.9681540024576847), ('russia', 0.9664269038131622), ('canada', 0.9656256134609168), ('france', 0.9609791781950988), ('germany', 0.9606895887308123), ('spain', 0.9539302571368609), ('ukraine', 0.9351824528061902), ('europe', 0.9274451464349402), ('israel', 0.9203823242801629), ('argentina', 0.9058482338701876), ('iran', 0.9018632938152645), ('america', 0.900608054755944), ('australia', 0.8989528112088551), ('newark', 0.8921890398466891), ('jordan', 0.8653347994155676), ('connecticut', 0.8614331744782271)]\n",
      "************\n",
      "explain [('discuss', 0.9210229781078088), ('protect', 0.9101659182416401), ('expand', 0.9081558124608813), ('improve', 0.9074869394797759), ('see', 0.9059164411849875), ('describe', 0.9046661029898634), ('keep', 0.9040468126362461), ('prevent', 0.9040319447478207), ('fix', 0.9028566201323226), ('celebrate', 0.9020249620000188), ('accept', 0.9008234170487935), ('win', 0.8980749483547609), ('leave', 0.897309029092533), ('save', 0.8963847607316605), ('handle', 0.8958711045595457), ('join', 0.8953773868385914), ('attend', 0.8951818573641667), ('hear', 0.8924837732093941), ('stop', 0.8911239987484176), ('reduce', 0.8903778521536451)]\n",
      "************\n",
      "abortion [('human', 0.7067366841886674), ('animal', 0.666152262131892), ('terrorism', 0.6527340025386713), ('democracy', 0.6293621611157337), ('education', 0.6284084079868734), ('inflation', 0.6239487595401229), ('architecture', 0.6201401650705611), ('smoke', 0.6125899449102497), ('happiness', 0.6115371328808409), ('evil', 0.6100767291183182), ('alcohol', 0.6079117073728578), ('silence', 0.6031643849530277), ('mine', 0.5992623188589283), ('animals', 0.5991866123002549), ('perfection', 0.5969121309006343), ('smoking', 0.5956542912397816), ('politics', 0.5934694665208899), ('god', 0.5930003529988842), ('exercise', 0.5915459685768056), ('art', 0.5889884581658762)]\n",
      "************\n"
     ]
    }
   ],
   "source": [
    "from collections import defaultdict\n",
    "ll=['college','critical','election','india','explain','abortion']\n",
    "a={}\n",
    "for ww in ll:\n",
    "    a[ww]=defaultdict(float)\n",
    "    for w in word_to_ccdict:\n",
    "        if w not in ll :\n",
    "            a[ww][w]=distsim.cosinesim(word_to_ccdict[ww],word_to_ccdict[w])\n",
    "for i in ll:\n",
    "    print i,sorted(a[i].items(), key=lambda(k,v): v, reverse=True)[:20]\n",
    "    print \"************\"\n",
    "    \n",
    "#print a.items()"
   ]
  },
  {
   "cell_type": "markdown",
   "metadata": {
    "collapsed": true
   },
   "source": [
    "## Answer:\n",
    "The top words does make sense. For example, the word election matches some of the top issues discussed by the candidates such as environment,race,economy and industry. These are the words expected to hear when there is an election.\n"
   ]
  },
  {
   "cell_type": "markdown",
   "metadata": {},
   "source": [
    "## Question 7 (10 points)\n",
    "\n",
    "In the next several questions, you'll examine similarities in trained word embeddings, instead of raw context counts.\n",
    "\n",
    "See the file `nyt_word2vec.university_cat_dog`, which contains word embedding vectors pretrained by word2vec [1] for three words: “dog”, “cat”, and “university”, from the same corpus. You can open the file in a text editor since it’s quite small.\n",
    "\n",
    "Write a function which takes word embedding vectors of two words and calculates cossine similarity between these 2 words. The function should return a number beween -1 and 1. Briefly comment on whether the relative simlarities make sense. \n",
    "\n",
    "*Implementation note:*\n",
    "Notice that the inputs of this function are numpy arrays (v1 and v2). If you are not very familiar with the basic operation in numpy, you can find some examples in the basic operation section here:\n",
    "https://docs.scipy.org/doc/numpy-dev/user/quickstart.html\n",
    "\n",
    "If you know how to use Matlab but haven't tried numpy before, the following link should be helpful:\n",
    "https://docs.scipy.org/doc/numpy-dev/user/numpy-for-matlab-users.html\n",
    "\n",
    "[1] Mikolov, Tomas, et al. \"Distributed representations of words and phrases and their compositionality.\" NIPS 2013."
   ]
  },
  {
   "cell_type": "code",
   "execution_count": 10,
   "metadata": {
    "collapsed": false
   },
   "outputs": [],
   "source": [
    "import distsim; reload(distsim)\n",
    "\n",
    "word_to_vec_dict = distsim.load_word2vec(\"nyt_word2vec.4k\")\n",
    "\n",
    "# write code here to show output (i.e. cosine similarity between these words.)\n",
    "# We encourage you to write other functions in distsim.py itself. "
   ]
  },
  {
   "cell_type": "code",
   "execution_count": 51,
   "metadata": {
    "collapsed": false
   },
   "outputs": [
    {
     "name": "stdout",
     "output_type": "stream",
     "text": [
      "dog and university -0.190753135501\n",
      "dog and cat 0.827517295965\n",
      "cat and university -0.205394745036\n"
     ]
    }
   ],
   "source": [
    "print \"dog and university\",distsim.coswordvec(word_to_vec_dict['university'],word_to_vec_dict['dog'])\n",
    "print \"dog and cat\",distsim.coswordvec(word_to_vec_dict['cat'],word_to_vec_dict['dog'])\n",
    "print \"cat and university\",distsim.coswordvec(word_to_vec_dict['university'],word_to_vec_dict['cat'])"
   ]
  },
  {
   "cell_type": "markdown",
   "metadata": {},
   "source": [
    "**Write your response here:**\n",
    "Makes sense as the words cat and dog have a high second order cooccurence and they have the highest score compared to the others.\n",
    "\n",
    "\n"
   ]
  },
  {
   "cell_type": "markdown",
   "metadata": {},
   "source": [
    "## Question 8 (20 points)\n",
    "\n",
    "Repeat the process you did in the question 6, but now use dense vector from word2vec. Comment on whether the outputs makes sense. Compare the outputs of using nearest words on word2vec and the outputs on sparse context vector (so we suggest you to use the same words in question 6). Which method works better on the query words you choose. Please brief explain why one method works better than other in each case.\n",
    "\n",
    "Not: we used the default parameters of word2vec in [gensim](https://radimrehurek.com/gensim/models/word2vec.html) to get word2vec word embeddings."
   ]
  },
  {
   "cell_type": "code",
   "execution_count": 17,
   "metadata": {
    "collapsed": true
   },
   "outputs": [],
   "source": [
    "import distsim\n",
    "word_to_vec_dict = distsim.load_word2vec(\"nyt_word2vec.4k\")\n",
    "\n",
    "###Provide your answer below"
   ]
  },
  {
   "cell_type": "code",
   "execution_count": 103,
   "metadata": {
    "collapsed": false
   },
   "outputs": [
    {
     "name": "stdout",
     "output_type": "stream",
     "text": [
      "college [('school', 0.74907314124814683), ('yale', 0.72840527304919911), ('harvard', 0.72667452933333254), ('university', 0.71902654295023838), ('graduate', 0.67771289623055886), ('princeton', 0.67728772296343287), ('columbia', 0.6658151803649589), ('classes', 0.64515486528497767), ('student', 0.64220954855386803), ('teaching', 0.63504909202731918), ('academy', 0.63353757438350877), ('math', 0.61258515630653276), ('campus', 0.60996222714317905), ('teacher', 0.60502612369066744), ('tech', 0.59267514753187012), ('class', 0.588338704298906), ('schools', 0.58710727840864541), ('degree', 0.57261821493963239), ('students', 0.56665967176497778), ('hospital', 0.52891896014558026)]\n",
      "\n",
      "\n",
      "critical [('crucial', 0.75781312941589818), ('serious', 0.65851098588445867), ('significant', 0.63002530959357728), ('important', 0.61506770449141979), ('positive', 0.60737469254084009), ('negative', 0.58567660459894566), ('continuing', 0.57403089830781517), ('difficult', 0.55755714062189288), ('specific', 0.55611616342054815), ('limited', 0.5222837912147904), ('major', 0.51676750236132962), ('effective', 0.51254620909742521), ('aware', 0.49996663958391235), ('related', 0.49988032353738887), ('responsible', 0.49762944099685114), ('similar', 0.49254888691213178), ('considering', 0.49115720876722418), ('aggressive', 0.48756918753432277), ('tough', 0.48582050520607833), ('long-term', 0.48125007718403856)]\n",
      "\n",
      "\n",
      "election [('elections', 0.83302572034372191), ('presidential', 0.65358241321545796), ('senate', 0.64129148775381528), ('vote', 0.63220663477982597), ('democratic', 0.62209139960620397), ('legislature', 0.61416490302449167), ('campaign', 0.60003309730500487), ('convention', 0.59588924104545982), ('congressional', 0.5943778748238262), ('budget', 0.58676466888459078), ('candidate', 0.58488742613620548), ('debate', 0.58432511427328859), ('assembly', 0.57666504755033676), ('race', 0.57190516600526908), ('parliament', 0.5664079178135033), ('party', 0.56259597840647912), ('congress', 0.56022406214739306), ('november', 0.56000041326551808), ('contest', 0.55481679543021067), ('primary', 0.55248904086449102)]\n",
      "\n",
      "\n",
      "india [('japan', 0.86994315714014503), ('brazil', 0.86793781936926984), ('china', 0.80899416680428293), ('europe', 0.80012809793315398), ('italy', 0.79993014905694948), ('russia', 0.79380229256298473), ('britain', 0.7919609905368542), ('germany', 0.78533717824758664), ('france', 0.77284882639929242), ('africa', 0.73757198010908775), ('australia', 0.73563382634560226), ('spain', 0.72872559730545905), ('canada', 0.7152430475581838), ('argentina', 0.71439755251000148), ('ukraine', 0.69713504546653926), ('region', 0.67213909842176967), ('america', 0.62793738098364527), ('mexico', 0.61539844234506069), ('asian', 0.61244011332790249), ('korea', 0.60492010333608603)]\n",
      "\n",
      "\n",
      "explain [('ignore', 0.75165153079283942), ('understand', 0.73369137683269803), ('prove', 0.72514243316896088), ('respond', 0.71254766140896131), ('determine', 0.69840376160643525), ('appreciate', 0.67890346466513085), ('accept', 0.67176056405652396), ('imagine', 0.66869851678215508), ('describe', 0.66746055433427753), ('tell', 0.65958729241543146), ('discuss', 0.65570978186304019), ('decide', 0.65327406380782449), ('handle', 0.65235722838907451), ('admit', 0.63318773066709966), ('apply', 0.633157433477469), ('consider', 0.63144106135648648), ('find', 0.61962022931136762), ('fix', 0.61865567054212289), ('see', 0.61570177268993076), ('hide', 0.61121515651252434)]\n",
      "\n",
      "\n",
      "abortion [('immigration', 0.69573218408486281), ('legal', 0.61399117618873544), ('rights', 0.59954388311749252), ('religious', 0.5990026876309209), ('gay', 0.58723439286866941), ('terrorism', 0.58192398743857654), ('advocates', 0.57834423741565355), ('marriage', 0.57267366512302698), ('judges', 0.57161726605626739), ('liberal', 0.56808410584972691), ('laws', 0.55526669897785919), ('illegal', 0.54456697559755352), ('ban', 0.53315279237964441), ('ruling', 0.53264359092941893), ('islamic', 0.52671620303842648), ('conservative', 0.52637210211425967), ('reform', 0.51575233880482052), ('civil', 0.51417947423018029), ('democrats', 0.51164897063866366), ('politicians', 0.50957682005431315)]\n",
      "\n",
      "\n"
     ]
    }
   ],
   "source": [
    "from collections import defaultdict\n",
    "\n",
    "ll=['college','critical','election','india','explain','abortion']\n",
    "a={}\n",
    "for ww in ll:\n",
    "    a[ww]=defaultdict(float)\n",
    "    for w in word_to_vec_dict:\n",
    "        if w not in ll :\n",
    "            a[ww][w]=distsim.coswordvec(word_to_vec_dict[ww],word_to_vec_dict[w])\n",
    "for i in ll:\n",
    "    print i,sorted(a[i].items(), key=lambda(k,v): v, reverse=True)[:20]\n",
    "    print \"\\n\""
   ]
  },
  {
   "cell_type": "markdown",
   "metadata": {},
   "source": [
    "## Response.\n",
    "The word college gives results such as Yale,Harvard,graduate and Princeton which makes a lot of sense.\n",
    "I feel the dense vector approach seems to work better when compared to the sparse vector.\n",
    "Consider the results for the word abortion.\n",
    "\n",
    "Sparse Vector:\n",
    "\n",
    "abortion [('human', 0.7067366841886674), ('animal', 0.666152262131892), ('terrorism', 0.6527340025386713), ('democracy', 0.6293621611157337), ('education', 0.6284084079868734), ('inflation', 0.6239487595401229), ('architecture', 0.6201401650705611), ('smoke', 0.6125899449102497), ('happiness', 0.6115371328808409), ('evil', 0.6100767291183182), ('alcohol', 0.6079117073728578), ('silence', 0.6031643849530277), ('mine', 0.5992623188589283), ('animals', 0.5991866123002549), ('perfection', 0.5969121309006343), ('smoking', 0.5956542912397816), ('politics', 0.5934694665208899), ('god', 0.5930003529988842), ('exercise', 0.5915459685768056), ('art', 0.5889884581658762)]\n",
    "\n",
    "Dense Vector:\n",
    "\n",
    "abortion [('immigration', 0.69573218408486281), ('legal', 0.61399117618873544), ('rights', 0.59954388311749252), ('religious', 0.5990026876309209), ('gay', 0.58723439286866941), ('terrorism', 0.58192398743857654), ('advocates', 0.57834423741565355), ('marriage', 0.57267366512302698), ('judges', 0.57161726605626739), ('liberal', 0.56808410584972691), ('laws', 0.55526669897785919), ('illegal', 0.54456697559755352), ('ban', 0.53315279237964441), ('ruling', 0.53264359092941893), ('islamic', 0.52671620303842648), ('conservative', 0.52637210211425967), ('reform', 0.51575233880482052), ('civil', 0.51417947423018029), ('democrats', 0.51164897063866366), ('politicians', 0.50957682005431315)]\n",
    "\n",
    "The dense vector approach sums up the debate that has been going on regarding the issue of abortion.Words such as rights,religious,marriage,judge all fit into the context with all the debate  going in twitter for years.\n",
    "\n",
    "Because they contain fewer parametersvthan sparse vectors of explicit counts, dense vectors may generalize better and help\n",
    "avoid overfitting. And dense vectors may do a better job of capturing synonymy than sparse vectors. For example, car and automobile are synonyms; but in a typical sparse vectors representation, the car dimension and the automobile dimension are\n",
    "distinct dimensions.\n"
   ]
  },
  {
   "cell_type": "markdown",
   "metadata": {},
   "source": [
    "## Question 9 (15 points)\n",
    "An interesting thing to try with word embeddings is analogical reasoning tasks. In the following example, it's intended to solve the analogy question \"king is to man as what is to woman?\", or in SAT-style notation,\n",
    "\n",
    "king : man :: ____ : woman\n",
    "\n",
    "Some research has proposed to use additive operations on word embeddings to solve the analogy: take the vector $(v_{king}-v_{man}+v_{woman})$ and find the most-similar word to it.  One way to explain this idea: if you take \"king\", get rid of its attributes/contexts it shares with \"man\", and add in the attributes/contexts of \"woman\", hopefully you'll get to a point in the space that has king-like attributes but the \"man\" ones replaced with \"woman\" ones.\n",
    "\n",
    "Show the output for 20 closest words you get by trying to solve that analogy with this method.  Did it work?\n",
    "\n",
    "Please come up with another analogical reasoning task (another triple of words), and output the answer using the same method. Comment on whether the output makes sense. If the output makes sense, explain why we can capture such relation between words using an unsupervised algorithm. Where does the information come from? On the other hand, if the output does not make sense, propose an explanation why the algorithm fails on this case.\n",
    "\n",
    "\n",
    "Note that the word2vec is trained in an unsupervised manner just with distributional statistics; it is interesting that it can apparently do any reasoning at all.  For a critical view, see [Linzen 2016](http://www.aclweb.org/anthology/W/W16/W16-2503.pdf).\n",
    "\n"
   ]
  },
  {
   "cell_type": "code",
   "execution_count": 104,
   "metadata": {
    "collapsed": false
   },
   "outputs": [
    {
     "name": "stdout",
     "output_type": "stream",
     "text": [
      "[('king', 0.73899645785637336), ('queen', 0.72502863198579404), ('princess', 0.57790010340102305), ('prince', 0.56696239241698621), ('lord', 0.53091939111112807), ('royal', 0.52020329686379774), ('woman', 0.51095444078929031), ('mary', 0.49769814628352954), ('mama', 0.49546963683192263), ('daughter', 0.49375794656560135), ('singer', 0.4898380820139282), ('kim', 0.48835469524343839), ('elizabeth', 0.48248484340535652), ('girl', 0.47733829480775558), ('grandma', 0.47699072668127213), ('sister', 0.47030437182473755), ('mother', 0.4694220288325171), ('clark', 0.46824004740972941), ('wedding', 0.46233629356038575), ('husband', 0.45685118817885451)]\n",
      "\n",
      "\n"
     ]
    }
   ],
   "source": [
    "from collections import defaultdict\n",
    "a={}\n",
    "q=word_to_vec_dict['king']-word_to_vec_dict['man']+word_to_vec_dict['woman']\n",
    "for w in word_to_vec_dict:\n",
    "     a[w]=distsim.coswordvec(q,word_to_vec_dict[w])\n",
    "\n",
    "#for i in word_to_vec_dict:\n",
    "print sorted(a.items(), key=lambda(k,v): v, reverse=True)[:20]\n",
    "print \"\\n\"\n",
    "\n",
    "    "
   ]
  },
  {
   "cell_type": "markdown",
   "metadata": {},
   "source": [
    "### The word queen is second in the list of top words and hence this approach works."
   ]
  },
  {
   "cell_type": "markdown",
   "metadata": {},
   "source": [
    "## For the analogy brother:man::___:woman"
   ]
  },
  {
   "cell_type": "code",
   "execution_count": 105,
   "metadata": {
    "collapsed": false
   },
   "outputs": [
    {
     "name": "stdout",
     "output_type": "stream",
     "text": [
      "[('sister', 0.90081323842102301), ('daughter', 0.8850109461631338), ('brother', 0.86601958989790895), ('husband', 0.84419002024893908), ('grandmother', 0.80889204708050699), ('son', 0.8039685561994746), ('mother', 0.79728743274100244), ('wife', 0.78233426361790115), ('grandfather', 0.76685129159368881), ('boyfriend', 0.76214304308655545), ('cousin', 0.75166182713933327), ('uncle', 0.73230917518525207), ('girlfriend', 0.71176013821315343), ('father', 0.69565052840587094), ('sisters', 0.69458965117222171), ('sons', 0.66575388858188522), ('grandchildren', 0.63226168509182901), ('grandma', 0.60536784331586158), ('dad', 0.58853076338753563), ('friend', 0.58813122597007872)]\n",
      "\n",
      "\n"
     ]
    }
   ],
   "source": [
    "from collections import defaultdict\n",
    "a={}\n",
    "q=word_to_vec_dict['brother']-word_to_vec_dict['man']+word_to_vec_dict['woman']\n",
    "for w in word_to_vec_dict:\n",
    "     a[w]=distsim.coswordvec(q,word_to_vec_dict[w])\n",
    "\n",
    "#for i in word_to_vec_dict:\n",
    "print sorted(a.items(), key=lambda(k,v): v, reverse=True)[:20]\n",
    "print \"\\n\""
   ]
  },
  {
   "cell_type": "markdown",
   "metadata": {},
   "source": [
    "### We get the answer as sister which is the expected answer."
   ]
  },
  {
   "cell_type": "markdown",
   "metadata": {},
   "source": [
    "Dense vectors may do a better job of capturing synonymy than sparse vectors. For example, car and automobile are synonyms; but in a typical sparse vectors representation, the car dimension and the automobile dimension are distinct dimensions.\n",
    "Since they capture synoyms better ,we can relate words which have the similar relationship."
   ]
  },
  {
   "cell_type": "code",
   "execution_count": null,
   "metadata": {
    "collapsed": true
   },
   "outputs": [],
   "source": []
  }
 ],
 "metadata": {
  "anaconda-cloud": {},
  "kernelspec": {
   "display_name": "Python 2",
   "language": "python",
   "name": "python2"
  },
  "language_info": {
   "codemirror_mode": {
    "name": "ipython",
    "version": 2
   },
   "file_extension": ".py",
   "mimetype": "text/x-python",
   "name": "python",
   "nbconvert_exporter": "python",
   "pygments_lexer": "ipython2",
   "version": "2.7.13"
  }
 },
 "nbformat": 4,
 "nbformat_minor": 0
}
